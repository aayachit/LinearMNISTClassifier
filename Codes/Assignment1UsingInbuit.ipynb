{
  "nbformat": 4,
  "nbformat_minor": 0,
  "metadata": {
    "colab": {
      "name": "Assignment1UsingInbuit.ipynb",
      "provenance": [],
      "collapsed_sections": []
    },
    "kernelspec": {
      "name": "python3",
      "display_name": "Python 3"
    }
  },
  "cells": [
    {
      "cell_type": "code",
      "metadata": {
        "id": "ZNBkQ-peEqkh",
        "colab_type": "code",
        "outputId": "a22af664-822d-470c-d3bd-d3c99186e4a9",
        "colab": {
          "base_uri": "https://localhost:8080/",
          "height": 34
        }
      },
      "source": [
        "\"\"\"import pickle\n",
        "import gzip\n",
        "import numpy as np\n",
        "from mlxtend.data import loadlocal_mnist\"\"\""
      ],
      "execution_count": 16,
      "outputs": [
        {
          "output_type": "execute_result",
          "data": {
            "text/plain": [
              "'import pickle\\nimport gzip\\nimport numpy as np\\nfrom mlxtend.data import loadlocal_mnist'"
            ]
          },
          "metadata": {
            "tags": []
          },
          "execution_count": 16
        }
      ]
    },
    {
      "cell_type": "code",
      "metadata": {
        "id": "QTvjFnAXcSxF",
        "colab_type": "code",
        "outputId": "90fa5922-c357-40cd-bb44-b56943fa6ff2",
        "colab": {
          "base_uri": "https://localhost:8080/",
          "height": 54
        }
      },
      "source": [
        "\"\"\"def load_data():\n",
        "  trData = gzip.open('http://yann.lecun.com/exdb/mnist/train-images-idx3-ubyte.gz', 'rb')\n",
        "  trLabels = gzip.open('http://yann.lecun.com/exdb/mnist/train-labels-idx1-ubyte.gz', 'rb')\n",
        "  tsData = gzip.open('http://yann.lecun.com/exdb/mnist/t10k-images-idx3-ubyte.gz', 'rb')\n",
        "  tsLabels = gzip.open('http://yann.lecun.com/exdb/mnist/t10k-labels-idx1-ubyte.gz', 'rb')\n",
        "  trainData = pickle.load(trData)\n",
        "  trData.close()\n",
        "  trainLabels = pickle.load(trLabels)\n",
        "  trLabels.close()\n",
        "  testData = pickle.load(tsData)\n",
        "  tsData.close()\n",
        "  testLabels = pickle.load(tsLabels)\n",
        "  tsLabels.close()\n",
        "  return (trainData, trainLabels, testData, testLabels)\"\"\""
      ],
      "execution_count": 17,
      "outputs": [
        {
          "output_type": "execute_result",
          "data": {
            "text/plain": [
              "\"def load_data():\\n  trData = gzip.open('http://yann.lecun.com/exdb/mnist/train-images-idx3-ubyte.gz', 'rb')\\n  trLabels = gzip.open('http://yann.lecun.com/exdb/mnist/train-labels-idx1-ubyte.gz', 'rb')\\n  tsData = gzip.open('http://yann.lecun.com/exdb/mnist/t10k-images-idx3-ubyte.gz', 'rb')\\n  tsLabels = gzip.open('http://yann.lecun.com/exdb/mnist/t10k-labels-idx1-ubyte.gz', 'rb')\\n  trainData = pickle.load(trData)\\n  trData.close()\\n  trainLabels = pickle.load(trLabels)\\n  trLabels.close()\\n  testData = pickle.load(tsData)\\n  tsData.close()\\n  testLabels = pickle.load(tsLabels)\\n  tsLabels.close()\\n  return (trainData, trainLabels, testData, testLabels)\""
            ]
          },
          "metadata": {
            "tags": []
          },
          "execution_count": 17
        }
      ]
    },
    {
      "cell_type": "code",
      "metadata": {
        "id": "TaD8KWoBns1p",
        "colab_type": "code",
        "outputId": "c7195e98-f906-44e2-9059-1db880b8b7d0",
        "colab": {
          "base_uri": "https://localhost:8080/",
          "height": 54
        }
      },
      "source": [
        "\"\"\"def printData():\n",
        "  trainData, trainLabels = load_data\n",
        "  print('Dimensions: %s x %s' % (trainData.shape[0], trainLabels.shape[1]))\n",
        "  print('\\n1st row', trainData[0])\"\"\""
      ],
      "execution_count": 18,
      "outputs": [
        {
          "output_type": "execute_result",
          "data": {
            "text/plain": [
              "\"def printData():\\n  trainData, trainLabels = load_data\\n  print('Dimensions: %s x %s' % (trainData.shape[0], trainLabels.shape[1]))\\n  print('\\n1st row', trainData[0])\""
            ]
          },
          "metadata": {
            "tags": []
          },
          "execution_count": 18
        }
      ]
    },
    {
      "cell_type": "code",
      "metadata": {
        "id": "GTU0MVrh_EgU",
        "colab_type": "code",
        "outputId": "a96ec10c-e8ec-4c5e-a312-4d0b509aa41b",
        "colab": {
          "base_uri": "https://localhost:8080/",
          "height": 785
        }
      },
      "source": [
        "!pip install tensorflow keras numpy mnist matplotlib"
      ],
      "execution_count": 19,
      "outputs": [
        {
          "output_type": "stream",
          "text": [
            "Requirement already satisfied: tensorflow in /usr/local/lib/python3.6/dist-packages (2.2.0rc3)\n",
            "Requirement already satisfied: keras in /usr/local/lib/python3.6/dist-packages (2.3.1)\n",
            "Requirement already satisfied: numpy in /usr/local/lib/python3.6/dist-packages (1.18.3)\n",
            "Requirement already satisfied: mnist in /usr/local/lib/python3.6/dist-packages (0.2.2)\n",
            "Requirement already satisfied: matplotlib in /usr/local/lib/python3.6/dist-packages (3.2.1)\n",
            "Requirement already satisfied: keras-preprocessing>=1.1.0 in /usr/local/lib/python3.6/dist-packages (from tensorflow) (1.1.0)\n",
            "Requirement already satisfied: termcolor>=1.1.0 in /usr/local/lib/python3.6/dist-packages (from tensorflow) (1.1.0)\n",
            "Requirement already satisfied: scipy==1.4.1; python_version >= \"3\" in /usr/local/lib/python3.6/dist-packages (from tensorflow) (1.4.1)\n",
            "Requirement already satisfied: tensorboard<2.3.0,>=2.2.0 in /usr/local/lib/python3.6/dist-packages (from tensorflow) (2.2.1)\n",
            "Requirement already satisfied: wheel>=0.26; python_version >= \"3\" in /usr/local/lib/python3.6/dist-packages (from tensorflow) (0.34.2)\n",
            "Requirement already satisfied: h5py<2.11.0,>=2.10.0 in /usr/local/lib/python3.6/dist-packages (from tensorflow) (2.10.0)\n",
            "Requirement already satisfied: tensorflow-estimator<2.3.0,>=2.2.0rc0 in /usr/local/lib/python3.6/dist-packages (from tensorflow) (2.2.0)\n",
            "Requirement already satisfied: protobuf>=3.8.0 in /usr/local/lib/python3.6/dist-packages (from tensorflow) (3.10.0)\n",
            "Requirement already satisfied: six>=1.12.0 in /usr/local/lib/python3.6/dist-packages (from tensorflow) (1.12.0)\n",
            "Requirement already satisfied: absl-py>=0.7.0 in /usr/local/lib/python3.6/dist-packages (from tensorflow) (0.9.0)\n",
            "Requirement already satisfied: gast==0.3.3 in /usr/local/lib/python3.6/dist-packages (from tensorflow) (0.3.3)\n",
            "Requirement already satisfied: astunparse==1.6.3 in /usr/local/lib/python3.6/dist-packages (from tensorflow) (1.6.3)\n",
            "Requirement already satisfied: google-pasta>=0.1.8 in /usr/local/lib/python3.6/dist-packages (from tensorflow) (0.2.0)\n",
            "Requirement already satisfied: wrapt>=1.11.1 in /usr/local/lib/python3.6/dist-packages (from tensorflow) (1.12.1)\n",
            "Requirement already satisfied: grpcio>=1.8.6 in /usr/local/lib/python3.6/dist-packages (from tensorflow) (1.28.1)\n",
            "Requirement already satisfied: opt-einsum>=2.3.2 in /usr/local/lib/python3.6/dist-packages (from tensorflow) (3.2.1)\n",
            "Requirement already satisfied: pyyaml in /usr/local/lib/python3.6/dist-packages (from keras) (3.13)\n",
            "Requirement already satisfied: keras-applications>=1.0.6 in /usr/local/lib/python3.6/dist-packages (from keras) (1.0.8)\n",
            "Requirement already satisfied: python-dateutil>=2.1 in /usr/local/lib/python3.6/dist-packages (from matplotlib) (2.8.1)\n",
            "Requirement already satisfied: pyparsing!=2.0.4,!=2.1.2,!=2.1.6,>=2.0.1 in /usr/local/lib/python3.6/dist-packages (from matplotlib) (2.4.7)\n",
            "Requirement already satisfied: kiwisolver>=1.0.1 in /usr/local/lib/python3.6/dist-packages (from matplotlib) (1.2.0)\n",
            "Requirement already satisfied: cycler>=0.10 in /usr/local/lib/python3.6/dist-packages (from matplotlib) (0.10.0)\n",
            "Requirement already satisfied: google-auth<2,>=1.6.3 in /usr/local/lib/python3.6/dist-packages (from tensorboard<2.3.0,>=2.2.0->tensorflow) (1.7.2)\n",
            "Requirement already satisfied: markdown>=2.6.8 in /usr/local/lib/python3.6/dist-packages (from tensorboard<2.3.0,>=2.2.0->tensorflow) (3.2.1)\n",
            "Requirement already satisfied: setuptools>=41.0.0 in /usr/local/lib/python3.6/dist-packages (from tensorboard<2.3.0,>=2.2.0->tensorflow) (46.1.3)\n",
            "Requirement already satisfied: tensorboard-plugin-wit>=1.6.0 in /usr/local/lib/python3.6/dist-packages (from tensorboard<2.3.0,>=2.2.0->tensorflow) (1.6.0.post3)\n",
            "Requirement already satisfied: werkzeug>=0.11.15 in /usr/local/lib/python3.6/dist-packages (from tensorboard<2.3.0,>=2.2.0->tensorflow) (1.0.1)\n",
            "Requirement already satisfied: requests<3,>=2.21.0 in /usr/local/lib/python3.6/dist-packages (from tensorboard<2.3.0,>=2.2.0->tensorflow) (2.21.0)\n",
            "Requirement already satisfied: google-auth-oauthlib<0.5,>=0.4.1 in /usr/local/lib/python3.6/dist-packages (from tensorboard<2.3.0,>=2.2.0->tensorflow) (0.4.1)\n",
            "Requirement already satisfied: pyasn1-modules>=0.2.1 in /usr/local/lib/python3.6/dist-packages (from google-auth<2,>=1.6.3->tensorboard<2.3.0,>=2.2.0->tensorflow) (0.2.8)\n",
            "Requirement already satisfied: rsa<4.1,>=3.1.4 in /usr/local/lib/python3.6/dist-packages (from google-auth<2,>=1.6.3->tensorboard<2.3.0,>=2.2.0->tensorflow) (4.0)\n",
            "Requirement already satisfied: cachetools<3.2,>=2.0.0 in /usr/local/lib/python3.6/dist-packages (from google-auth<2,>=1.6.3->tensorboard<2.3.0,>=2.2.0->tensorflow) (3.1.1)\n",
            "Requirement already satisfied: certifi>=2017.4.17 in /usr/local/lib/python3.6/dist-packages (from requests<3,>=2.21.0->tensorboard<2.3.0,>=2.2.0->tensorflow) (2020.4.5.1)\n",
            "Requirement already satisfied: chardet<3.1.0,>=3.0.2 in /usr/local/lib/python3.6/dist-packages (from requests<3,>=2.21.0->tensorboard<2.3.0,>=2.2.0->tensorflow) (3.0.4)\n",
            "Requirement already satisfied: urllib3<1.25,>=1.21.1 in /usr/local/lib/python3.6/dist-packages (from requests<3,>=2.21.0->tensorboard<2.3.0,>=2.2.0->tensorflow) (1.24.3)\n",
            "Requirement already satisfied: idna<2.9,>=2.5 in /usr/local/lib/python3.6/dist-packages (from requests<3,>=2.21.0->tensorboard<2.3.0,>=2.2.0->tensorflow) (2.8)\n",
            "Requirement already satisfied: requests-oauthlib>=0.7.0 in /usr/local/lib/python3.6/dist-packages (from google-auth-oauthlib<0.5,>=0.4.1->tensorboard<2.3.0,>=2.2.0->tensorflow) (1.3.0)\n",
            "Requirement already satisfied: pyasn1<0.5.0,>=0.4.6 in /usr/local/lib/python3.6/dist-packages (from pyasn1-modules>=0.2.1->google-auth<2,>=1.6.3->tensorboard<2.3.0,>=2.2.0->tensorflow) (0.4.8)\n",
            "Requirement already satisfied: oauthlib>=3.0.0 in /usr/local/lib/python3.6/dist-packages (from requests-oauthlib>=0.7.0->google-auth-oauthlib<0.5,>=0.4.1->tensorboard<2.3.0,>=2.2.0->tensorflow) (3.1.0)\n"
          ],
          "name": "stdout"
        }
      ]
    },
    {
      "cell_type": "code",
      "metadata": {
        "id": "a7ZYed4m_drG",
        "colab_type": "code",
        "colab": {}
      },
      "source": [
        "import numpy as np\n",
        "import mnist\n",
        "import matplotlib.pyplot as plt\n",
        "from keras.models import Sequential\n",
        "from keras.layers import Dense\n",
        "from keras.utils import to_categorical\n"
      ],
      "execution_count": 0,
      "outputs": []
    },
    {
      "cell_type": "code",
      "metadata": {
        "id": "uiajwavqAmWI",
        "colab_type": "code",
        "colab": {}
      },
      "source": [
        "train_images = mnist.train_images()\n",
        "train_labels = mnist.train_labels()\n",
        "test_images = mnist.test_images()\n",
        "test_labels = mnist.test_labels() "
      ],
      "execution_count": 0,
      "outputs": []
    },
    {
      "cell_type": "code",
      "metadata": {
        "id": "5PR0CMZgBkv2",
        "colab_type": "code",
        "colab": {}
      },
      "source": [
        "train_images = (train_images/255) - 0.5\n",
        "test_images = (test_images/255) - 0.5\n",
        "train_images = train_images.reshape(-1, 784)\n",
        "test_images = test_images.reshape(-1, 784)"
      ],
      "execution_count": 0,
      "outputs": []
    },
    {
      "cell_type": "code",
      "metadata": {
        "id": "sXmm-alwK7Eu",
        "colab_type": "code",
        "colab": {
          "base_uri": "https://localhost:8080/",
          "height": 867
        },
        "outputId": "6fc1aa25-5605-47b7-eb4d-8755d852166a"
      },
      "source": [
        "model = Sequential()\n",
        "model.add(Dense(64, activation = 'relu', input_dim = 784))\n",
        "model.add(Dense(64, activation = 'relu'))\n",
        "model.add(Dense(10, activation = 'softmax'))\n",
        "\n",
        "model.compile(optimizer = 'sgd',loss = 'mean_squared_error',metrics = ['accuracy'])\n",
        "loss=model.fit(train_images,to_categorical(train_labels),epochs = 25,batch_size = 100)"
      ],
      "execution_count": 30,
      "outputs": [
        {
          "output_type": "stream",
          "text": [
            "Epoch 1/25\n",
            "60000/60000 [==============================] - 1s 23us/step - loss: 0.0905 - accuracy: 0.0986\n",
            "Epoch 2/25\n",
            "60000/60000 [==============================] - 1s 23us/step - loss: 0.0900 - accuracy: 0.1089\n",
            "Epoch 3/25\n",
            "60000/60000 [==============================] - 1s 23us/step - loss: 0.0900 - accuracy: 0.1124\n",
            "Epoch 4/25\n",
            "60000/60000 [==============================] - 1s 23us/step - loss: 0.0900 - accuracy: 0.1124\n",
            "Epoch 5/25\n",
            "60000/60000 [==============================] - 1s 23us/step - loss: 0.0900 - accuracy: 0.1124\n",
            "Epoch 6/25\n",
            "60000/60000 [==============================] - 1s 23us/step - loss: 0.0900 - accuracy: 0.1124\n",
            "Epoch 7/25\n",
            "60000/60000 [==============================] - 1s 23us/step - loss: 0.0900 - accuracy: 0.1124\n",
            "Epoch 8/25\n",
            "60000/60000 [==============================] - 1s 22us/step - loss: 0.0900 - accuracy: 0.1124\n",
            "Epoch 9/25\n",
            "60000/60000 [==============================] - 1s 23us/step - loss: 0.0900 - accuracy: 0.1124\n",
            "Epoch 10/25\n",
            "60000/60000 [==============================] - 1s 23us/step - loss: 0.0900 - accuracy: 0.1124\n",
            "Epoch 11/25\n",
            "60000/60000 [==============================] - 1s 23us/step - loss: 0.0900 - accuracy: 0.1124\n",
            "Epoch 12/25\n",
            "60000/60000 [==============================] - 1s 22us/step - loss: 0.0900 - accuracy: 0.1124\n",
            "Epoch 13/25\n",
            "60000/60000 [==============================] - 1s 23us/step - loss: 0.0900 - accuracy: 0.1124\n",
            "Epoch 14/25\n",
            "60000/60000 [==============================] - 1s 22us/step - loss: 0.0900 - accuracy: 0.1124\n",
            "Epoch 15/25\n",
            "60000/60000 [==============================] - 1s 23us/step - loss: 0.0900 - accuracy: 0.1124\n",
            "Epoch 16/25\n",
            "60000/60000 [==============================] - 1s 22us/step - loss: 0.0900 - accuracy: 0.1124\n",
            "Epoch 17/25\n",
            "60000/60000 [==============================] - 1s 23us/step - loss: 0.0900 - accuracy: 0.1124\n",
            "Epoch 18/25\n",
            "60000/60000 [==============================] - 1s 23us/step - loss: 0.0900 - accuracy: 0.1124\n",
            "Epoch 19/25\n",
            "60000/60000 [==============================] - 1s 22us/step - loss: 0.0900 - accuracy: 0.1124\n",
            "Epoch 20/25\n",
            "60000/60000 [==============================] - 1s 22us/step - loss: 0.0900 - accuracy: 0.1124\n",
            "Epoch 21/25\n",
            "60000/60000 [==============================] - 1s 23us/step - loss: 0.0900 - accuracy: 0.1124\n",
            "Epoch 22/25\n",
            "60000/60000 [==============================] - 1s 23us/step - loss: 0.0900 - accuracy: 0.1124\n",
            "Epoch 23/25\n",
            "60000/60000 [==============================] - 1s 23us/step - loss: 0.0900 - accuracy: 0.1124\n",
            "Epoch 24/25\n",
            "60000/60000 [==============================] - 1s 23us/step - loss: 0.0900 - accuracy: 0.1124\n",
            "Epoch 25/25\n",
            "60000/60000 [==============================] - 1s 22us/step - loss: 0.0900 - accuracy: 0.1124\n"
          ],
          "name": "stdout"
        }
      ]
    },
    {
      "cell_type": "code",
      "metadata": {
        "id": "YyAG28_X4WZ_",
        "colab_type": "code",
        "outputId": "77e6ad53-4e06-4e5f-ebf6-ff8520a65b1d",
        "colab": {
          "base_uri": "https://localhost:8080/",
          "height": 34
        }
      },
      "source": [
        "accuracy = model.evaluate(test_images,to_categorical(test_labels))"
      ],
      "execution_count": 31,
      "outputs": [
        {
          "output_type": "stream",
          "text": [
            "10000/10000 [==============================] - 0s 24us/step\n"
          ],
          "name": "stdout"
        }
      ]
    },
    {
      "cell_type": "code",
      "metadata": {
        "id": "asw7ugCs_JUe",
        "colab_type": "code",
        "colab": {
          "base_uri": "https://localhost:8080/",
          "height": 51
        },
        "outputId": "61907972-8e83-4c15-96bd-0d21286df517"
      },
      "source": [
        "print(\"Accuracy: \")\n",
        "print(accuracy)"
      ],
      "execution_count": 35,
      "outputs": [
        {
          "output_type": "stream",
          "text": [
            "Accuracy: \n",
            "[0.08996486570835113, 0.11349999904632568]\n"
          ],
          "name": "stdout"
        }
      ]
    }
  ]
}