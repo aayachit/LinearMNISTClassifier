{
  "nbformat": 4,
  "nbformat_minor": 0,
  "metadata": {
    "colab": {
      "name": "Assignment 1.ipynb",
      "provenance": [],
      "collapsed_sections": []
    },
    "kernelspec": {
      "name": "python3",
      "display_name": "Python 3"
    }
  },
  "cells": [
    {
      "cell_type": "code",
      "metadata": {
        "id": "e3BymoismRXH",
        "colab_type": "code",
        "colab": {}
      },
      "source": [
        "import tensorflow as tf\n",
        "import matplotlib.pyplot as plt\n",
        "import sys\n",
        "import numpy as np\n",
        "import pandas as pd\n",
        "from tensorflow import keras\n",
        "from sklearn.metrics import accuracy_score\n",
        "import timeit\n",
        "import matplotlib.pyplot as plt\n",
        "import time"
      ],
      "execution_count": 0,
      "outputs": []
    },
    {
      "cell_type": "markdown",
      "metadata": {
        "id": "5QTJkgAHmfZk",
        "colab_type": "text"
      },
      "source": [
        "Data Loading\n"
      ]
    },
    {
      "cell_type": "code",
      "metadata": {
        "id": "yc0yLjdVmiqc",
        "colab_type": "code",
        "colab": {}
      },
      "source": [
        "(x_train, y_train), (x_test, y_test) = tf.keras.datasets.mnist.load_data()"
      ],
      "execution_count": 0,
      "outputs": []
    },
    {
      "cell_type": "code",
      "metadata": {
        "id": "HoHsO4z0mito",
        "colab_type": "code",
        "colab": {}
      },
      "source": [
        "x_train = x_train[:50000]\n",
        "y_train = y_train[:50000]\n",
        "\n",
        "x_train = x_train.reshape(50000, 784)\n",
        "x_test = x_test.reshape(10000, 784)"
      ],
      "execution_count": 0,
      "outputs": []
    },
    {
      "cell_type": "code",
      "metadata": {
        "id": "gcaV9bfSmr6n",
        "colab_type": "code",
        "colab": {}
      },
      "source": [
        "x_train = x_train/255\n",
        "x_test = x_test/255"
      ],
      "execution_count": 0,
      "outputs": []
    },
    {
      "cell_type": "code",
      "metadata": {
        "id": "k7Fd-y-hmtsW",
        "colab_type": "code",
        "colab": {}
      },
      "source": [
        "n_classes = 10\n",
        "y_train_targets = y_train.reshape(-1)\n",
        "y_train = np.eye(n_classes)[y_train_targets]\n",
        "\n",
        "n_classes = 10\n",
        "y_test_targets = y_test.reshape(-1)\n",
        "y_test = np.eye(n_classes)[y_test_targets]"
      ],
      "execution_count": 0,
      "outputs": []
    },
    {
      "cell_type": "code",
      "metadata": {
        "id": "-KUavbT1myXB",
        "colab_type": "code",
        "colab": {}
      },
      "source": [
        "def  find_loss(weight,X,y):\n",
        "    n = len(y)\n",
        "    pred = X.dot(weight)\n",
        "    loss = (1/2*n) * np.sum(np.square(pred-y))\n",
        "    return loss\n",
        "\n",
        "def change_to_categorical(input_arr, size):\n",
        "  for i in range(size):\n",
        "    max_i = (np.argmax(input_arr[i, :]))\n",
        "    input_arr[i, :] = np.zeros(10)\n",
        "    input_arr[i,max_i] = 1\n",
        "  return input_arr\n"
      ],
      "execution_count": 0,
      "outputs": []
    },
    {
      "cell_type": "code",
      "metadata": {
        "id": "zmdCOVpKm1tF",
        "colab_type": "code",
        "colab": {}
      },
      "source": [
        "\n",
        "def sgd(X,y,weight,l_r,iteration,batch_size):\n",
        "\n",
        "    n = len(y)\n",
        "    loss_arr = np.zeros(iteration)\n",
        "    \n",
        "    for iter in range(iteration):\n",
        "        loss =0.0\n",
        "        rand = np.random.permutation(n)\n",
        "        X = X[rand]\n",
        "        y = y[rand]\n",
        "        for i in range(0,n,batch_size):\n",
        "            x_new = X[i:i+batch_size]\n",
        "            y_new = y[i:i+batch_size]\n",
        "\n",
        "            pred = np.dot(x_new,weight)\n",
        "            weight = weight -(1/n)*l_r* ( x_new.T.dot((pred - y_new)))\n",
        "        loss += find_loss(weight,X,y)\n",
        "        loss_arr[iter]  = loss\n",
        "        \n",
        "    return weight, loss_arr"
      ],
      "execution_count": 0,
      "outputs": []
    },
    {
      "cell_type": "markdown",
      "metadata": {
        "id": "whBuTv-VvFP3",
        "colab_type": "text"
      },
      "source": [
        "Batch-wise Accuracy and Loss"
      ]
    },
    {
      "cell_type": "code",
      "metadata": {
        "id": "GZUoLo7R94fO",
        "colab_type": "code",
        "colab": {
          "base_uri": "https://localhost:8080/",
          "height": 425
        },
        "outputId": "53e3051f-0351-47a2-e7c4-efa2fae1e709"
      },
      "source": [
        "acc1 = []\n",
        "acc10 = []\n",
        "acc100 = []\n",
        "acc1000 = []\n",
        "lr = 0.5\n",
        "\n",
        "#Batch 1   \n",
        "print(\"batch_size = 1:\")\n",
        "for it in [1,10,20,50,100]:\n",
        "  weight = np.zeros((x_train.shape[1],10))\n",
        "  begin = time.time()\n",
        "  weight, loss_arr1 = sgd(x_train,y_train,weight,lr,it, 1)\n",
        "  end = time.time()\n",
        "  print(it,\" : Time = \", end-begin)\n",
        "\n",
        "  #Accuracy:\n",
        "  predicted_ytest = x_test.dot(weight)\n",
        "  predicted_ytest = change_to_categorical(predicted_ytest, 10000)\n",
        "  acc1.append(accuracy_score(predicted_ytest, y_test))\n",
        "\n",
        "print(\"batch_size = 10:\")\n",
        "for it in [1,10,20,50,100]:\n",
        "  weight = np.zeros((x_train.shape[1],10))\n",
        "  begin = time.time()\n",
        "  weight, loss_arr10 = sgd(x_train,y_train,weight,lr,it, 10)\n",
        "  end = time.time()\n",
        "  print(it,\" : Time = \", end-begin)\n",
        "\n",
        "  #Accuracy:\n",
        "  predicted_ytest = x_test.dot(weight)\n",
        "  predicted_ytest = change_to_categorical(predicted_ytest, 10000)\n",
        "  acc10.append(accuracy_score(predicted_ytest, y_test))\n",
        "\n",
        "print(\"batch_size = 100:\")\n",
        "for it in [1,10,20,50,100]:\n",
        "  weight = np.zeros((x_train.shape[1],10))\n",
        "  begin = time.time()\n",
        "  weight, loss_arr100 = sgd(x_train,y_train,weight,lr,it, 100)\n",
        "  end = time.time()\n",
        "  print(it,\" : Time = \", end-begin)\n",
        "\n",
        "  #Accuracy:\n",
        "  predicted_ytest = x_test.dot(weight)\n",
        "  predicted_ytest = change_to_categorical(predicted_ytest, 10000)\n",
        "  acc100.append(accuracy_score(predicted_ytest, y_test))\n",
        "\n",
        "print(\"batch_size = 1000:\")\n",
        "for it in [1,10,20,50,100]:\n",
        "  weight = np.zeros((x_train.shape[1],10))\n",
        "  begin = time.time()\n",
        "  weight, loss_arr1000 = sgd(x_train,y_train,weight,lr,it, 1000)\n",
        "  end = time.time()\n",
        "  print(it,\" : Time = \", end-begin)\n",
        "\n",
        "  #Accuracy:\n",
        "  predicted_ytest = x_test.dot(weight)\n",
        "  predicted_ytest = change_to_categorical(predicted_ytest, 10000)\n",
        "  acc1000.append(accuracy_score(predicted_ytest, y_test))\n",
        "\n",
        "  \n"
      ],
      "execution_count": 126,
      "outputs": [
        {
          "output_type": "stream",
          "text": [
            "batch_size = 1:\n",
            "1  : Time =  1.3802299499511719\n",
            "10  : Time =  14.092346906661987\n",
            "20  : Time =  27.763222455978394\n",
            "50  : Time =  69.59968185424805\n",
            "100  : Time =  139.23712873458862\n",
            "batch_size = 10:\n",
            "1  : Time =  0.44670939445495605\n",
            "10  : Time =  4.5354859828948975\n",
            "20  : Time =  9.109310626983643\n",
            "50  : Time =  22.720091104507446\n",
            "100  : Time =  45.59395241737366\n",
            "batch_size = 100:\n",
            "1  : Time =  0.3731245994567871\n",
            "10  : Time =  3.7390642166137695\n",
            "20  : Time =  7.471063613891602\n",
            "50  : Time =  18.610449075698853\n",
            "100  : Time =  37.24329662322998\n",
            "batch_size = 1000:\n",
            "1  : Time =  0.3597753047943115\n",
            "10  : Time =  3.5878419876098633\n",
            "20  : Time =  9.97274136543274\n",
            "50  : Time =  18.714553594589233\n",
            "100  : Time =  36.1790611743927\n"
          ],
          "name": "stdout"
        }
      ]
    },
    {
      "cell_type": "markdown",
      "metadata": {
        "id": "rcM2bLmYt-Ug",
        "colab_type": "text"
      },
      "source": [
        "Plots for Loss vs Iterations"
      ]
    },
    {
      "cell_type": "code",
      "metadata": {
        "id": "BT55wAZI-Wsb",
        "colab_type": "code",
        "colab": {
          "base_uri": "https://localhost:8080/",
          "height": 307
        },
        "outputId": "a5a47d8a-be94-4960-c337-03dfe7434c5f"
      },
      "source": [
        "#Loss vs iterations : 1\n",
        "iteration_number = [x for x in range(1,101)]\n",
        "plt.plot(iteration_number, loss_arr1, color='black')\n",
        "plt.xlabel(\"number of iterations\")\n",
        "plt.ylabel(\"Loss\")"
      ],
      "execution_count": 127,
      "outputs": [
        {
          "output_type": "execute_result",
          "data": {
            "text/plain": [
              "Text(0, 0.5, 'Loss')"
            ]
          },
          "metadata": {
            "tags": []
          },
          "execution_count": 127
        },
        {
          "output_type": "display_data",
          "data": {
            "image/png": "[encoded data removed]",
            "text/plain": [
              "<Figure size 432x288 with 1 Axes>"
            ]
          },
          "metadata": {
            "tags": [],
            "needs_background": "light"
          }
        }
      ]
    },
    {
      "cell_type": "code",
      "metadata": {
        "id": "MK7KmW6ZtKYK",
        "colab_type": "code",
        "colab": {
          "base_uri": "https://localhost:8080/",
          "height": 307
        },
        "outputId": "227f8114-32d2-4fa6-f307-25fd97f94e3b"
      },
      "source": [
        "#Loss vs iterations : 10\n",
        "iteration_number = [x for x in range(1,101)]\n",
        "plt.plot(iteration_number, loss_arr10, color='black')\n",
        "plt.xlabel(\"number of iterations\")\n",
        "plt.ylabel(\"Loss\")"
      ],
      "execution_count": 128,
      "outputs": [
        {
          "output_type": "execute_result",
          "data": {
            "text/plain": [
              "Text(0, 0.5, 'Loss')"
            ]
          },
          "metadata": {
            "tags": []
          },
          "execution_count": 128
        },
        {
          "output_type": "display_data",
          "data": {
            "image/png": "[encoded data removed]",
            "text/plain": [
              "<Figure size 432x288 with 1 Axes>"
            ]
          },
          "metadata": {
            "tags": [],
            "needs_background": "light"
          }
        }
      ]
    },
    {
      "cell_type": "code",
      "metadata": {
        "id": "9QY0Sx-gtNV-",
        "colab_type": "code",
        "colab": {
          "base_uri": "https://localhost:8080/",
          "height": 307
        },
        "outputId": "e77df15a-3354-4170-a4f3-fcee34fbfc69"
      },
      "source": [
        "#Loss vs iterations : 100\n",
        "iteration_number = [x for x in range(1,101)]\n",
        "plt.plot(iteration_number, loss_arr100, color='black')\n",
        "plt.xlabel(\"number of iterations\")\n",
        "plt.ylabel(\"Loss\")"
      ],
      "execution_count": 129,
      "outputs": [
        {
          "output_type": "execute_result",
          "data": {
            "text/plain": [
              "Text(0, 0.5, 'Loss')"
            ]
          },
          "metadata": {
            "tags": []
          },
          "execution_count": 129
        },
        {
          "output_type": "display_data",
          "data": {
            "image/png": "[encoded data removed]",
            "text/plain": [
              "<Figure size 432x288 with 1 Axes>"
            ]
          },
          "metadata": {
            "tags": [],
            "needs_background": "light"
          }
        }
      ]
    },
    {
      "cell_type": "code",
      "metadata": {
        "id": "NXJeEKE-tRwO",
        "colab_type": "code",
        "colab": {
          "base_uri": "https://localhost:8080/",
          "height": 307
        },
        "outputId": "515219ae-1457-449c-ea5b-29dd8a3038bc"
      },
      "source": [
        "#Loss vs iterations : 1000\n",
        "iteration_number = [x for x in range(1,101)]\n",
        "plt.plot(iteration_number, loss_arr1000, color='black')\n",
        "plt.xlabel(\"number of iterations\")\n",
        "plt.ylabel(\"Loss\")"
      ],
      "execution_count": 130,
      "outputs": [
        {
          "output_type": "execute_result",
          "data": {
            "text/plain": [
              "Text(0, 0.5, 'Loss')"
            ]
          },
          "metadata": {
            "tags": []
          },
          "execution_count": 130
        },
        {
          "output_type": "display_data",
          "data": {
            "image/png": "[encoded data removed]",
            "text/plain": [
              "<Figure size 432x288 with 1 Axes>"
            ]
          },
          "metadata": {
            "tags": [],
            "needs_background": "light"
          }
        }
      ]
    },
    {
      "cell_type": "markdown",
      "metadata": {
        "id": "ksavZt0suC0E",
        "colab_type": "text"
      },
      "source": [
        "Plot for Accuracy vs Iterations"
      ]
    },
    {
      "cell_type": "code",
      "metadata": {
        "id": "R6llt-6WnJ_D",
        "colab_type": "code",
        "colab": {
          "base_uri": "https://localhost:8080/",
          "height": 297
        },
        "outputId": "2b32bc9f-d38f-496d-fe8a-483fdf661cb8"
      },
      "source": [
        "#Accuracy vs Iterations : 1\n",
        "iteration_number = [x for x in range(1,101)]\n",
        "plt.plot([1,10,20,50,100], acc1)\n",
        "plt.xlabel(\"number of iterations\")\n",
        "plt.ylabel(\"Accuracy\")"
      ],
      "execution_count": 131,
      "outputs": [
        {
          "output_type": "execute_result",
          "data": {
            "text/plain": [
              "Text(0, 0.5, 'Accuracy')"
            ]
          },
          "metadata": {
            "tags": []
          },
          "execution_count": 131
        },
        {
          "output_type": "display_data",
          "data": {
            "image/png": "[encoded data removed]",
            "text/plain": [
              "<Figure size 432x288 with 1 Axes>"
            ]
          },
          "metadata": {
            "tags": [],
            "needs_background": "light"
          }
        }
      ]
    },
    {
      "cell_type": "code",
      "metadata": {
        "id": "5bB3WwnMtb2K",
        "colab_type": "code",
        "colab": {
          "base_uri": "https://localhost:8080/",
          "height": 296
        },
        "outputId": "41a6c461-7c60-446a-d76a-e8188bbefc47"
      },
      "source": [
        "#Accuracy vs Iterations : 10\n",
        "iteration_number = [x for x in range(1,101)]\n",
        "plt.plot([1,10,20,50,100], acc10)\n",
        "plt.xlabel(\"number of iterations\")\n",
        "plt.ylabel(\"Accuracy\")"
      ],
      "execution_count": 132,
      "outputs": [
        {
          "output_type": "execute_result",
          "data": {
            "text/plain": [
              "Text(0, 0.5, 'Accuracy')"
            ]
          },
          "metadata": {
            "tags": []
          },
          "execution_count": 132
        },
        {
          "output_type": "display_data",
          "data": {
            "image/png": "[encoded data removed]",
            "text/plain": [
              "<Figure size 432x288 with 1 Axes>"
            ]
          },
          "metadata": {
            "tags": [],
            "needs_background": "light"
          }
        }
      ]
    },
    {
      "cell_type": "code",
      "metadata": {
        "id": "5AcQ255Jtdb_",
        "colab_type": "code",
        "colab": {
          "base_uri": "https://localhost:8080/",
          "height": 296
        },
        "outputId": "f16239c5-7873-4357-ad56-57589e3643b9"
      },
      "source": [
        "#Accuracy vs Iterations : 100\n",
        "iteration_number = [x for x in range(1,101)]\n",
        "plt.plot([1,10,20,50,100], acc100)\n",
        "plt.xlabel(\"number of iterations\")\n",
        "plt.ylabel(\"Accuracy\")"
      ],
      "execution_count": 133,
      "outputs": [
        {
          "output_type": "execute_result",
          "data": {
            "text/plain": [
              "Text(0, 0.5, 'Accuracy')"
            ]
          },
          "metadata": {
            "tags": []
          },
          "execution_count": 133
        },
        {
          "output_type": "display_data",
          "data": {
            "image/png": "[encoded data removed]",
            "text/plain": [
              "<Figure size 432x288 with 1 Axes>"
            ]
          },
          "metadata": {
            "tags": [],
            "needs_background": "light"
          }
        }
      ]
    },
    {
      "cell_type": "code",
      "metadata": {
        "id": "Z1JDk7EmsLnn",
        "colab_type": "code",
        "colab": {
          "base_uri": "https://localhost:8080/",
          "height": 298
        },
        "outputId": "503f93c1-1877-40dc-d346-70c5f1cb69de"
      },
      "source": [
        "#Accuracy vs Iterations : 1000\n",
        "iteration_number = [x for x in range(1,101)]\n",
        "plt.plot([1,10,20,50,100], acc1000)\n",
        "plt.xlabel(\"number of iterations\")\n",
        "plt.ylabel(\"Accuracy\")"
      ],
      "execution_count": 134,
      "outputs": [
        {
          "output_type": "execute_result",
          "data": {
            "text/plain": [
              "Text(0, 0.5, 'Accuracy')"
            ]
          },
          "metadata": {
            "tags": []
          },
          "execution_count": 134
        },
        {
          "output_type": "display_data",
          "data": {
            "image/png": "[encoded data removed]",
            "text/plain": [
              "<Figure size 432x288 with 1 Axes>"
            ]
          },
          "metadata": {
            "tags": [],
            "needs_background": "light"
          }
        }
      ]
    },
    {
      "cell_type": "markdown",
      "metadata": {
        "id": "Co_h0n5i6iOa",
        "colab_type": "text"
      },
      "source": [
        "Using Different Dataset Sizes"
      ]
    },
    {
      "cell_type": "code",
      "metadata": {
        "id": "sdj4DgHZ492v",
        "colab_type": "code",
        "colab": {
          "base_uri": "https://localhost:8080/",
          "height": 85
        },
        "outputId": "f38c4d4a-b42c-4573-e961-d1215a6ecf6f"
      },
      "source": [
        "acc100 = []\n",
        "lr = 0.5\n",
        "batch_size = 100\n",
        "for it in [100, 500, 1000, 10000]:\n",
        "  weight = np.zeros((x_train[:it].shape[1],10))\n",
        "  weight, loss_arr = minibatch_gradient_descent(x_train[:it],y_train[:it],weight,lr,200, 100)\n",
        "\n",
        "  predicted_ytest = x_test.dot(weight)\n",
        "  predicted_ytest = change_to_categorical(predicted_ytest, 10000)\n",
        "  acc100.append(accuracy_score(predicted_ytest, y_test))"
      ],
      "execution_count": 141,
      "outputs": [
        {
          "output_type": "stream",
          "text": [
            "/usr/local/lib/python3.6/dist-packages/numpy/core/fromnumeric.py:90: RuntimeWarning: overflow encountered in reduce\n",
            "  return ufunc.reduce(obj, axis, dtype, out, **passkwargs)\n",
            "/usr/local/lib/python3.6/dist-packages/ipykernel_launcher.py:4: RuntimeWarning: overflow encountered in square\n",
            "  after removing the cwd from sys.path.\n"
          ],
          "name": "stderr"
        }
      ]
    },
    {
      "cell_type": "code",
      "metadata": {
        "id": "_nxPeXw26ETM",
        "colab_type": "code",
        "colab": {
          "base_uri": "https://localhost:8080/",
          "height": 297
        },
        "outputId": "590167d6-982a-4570-981b-408938645cac"
      },
      "source": [
        "plt.plot(N_dash, acc100)\n",
        "plt.xlabel(\"N_Dash(New Size)\")\n",
        "plt.ylabel(\"Accuracy\")"
      ],
      "execution_count": 142,
      "outputs": [
        {
          "output_type": "execute_result",
          "data": {
            "text/plain": [
              "Text(0, 0.5, 'Accuracy')"
            ]
          },
          "metadata": {
            "tags": []
          },
          "execution_count": 142
        },
        {
          "output_type": "display_data",
          "data": {
            "image/png": "[encoded data removed]",
            "text/plain": [
              "<Figure size 432x288 with 1 Axes>"
            ]
          },
          "metadata": {
            "tags": [],
            "needs_background": "light"
          }
        }
      ]
    }
  ]
}